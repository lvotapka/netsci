{
 "cells": [
  {
   "cell_type": "code",
   "execution_count": 1,
   "id": "b90199fd",
   "metadata": {},
   "outputs": [],
   "source": [
    "import os\n",
    "\n",
    "import numpy as np\n",
    "\n",
    "import cuarray"
   ]
  },
  {
   "cell_type": "code",
   "execution_count": 2,
   "id": "bd680293",
   "metadata": {},
   "outputs": [],
   "source": [
    "cu_a = cuarray.FloatCuArray()"
   ]
  },
  {
   "cell_type": "code",
   "execution_count": 3,
   "id": "c33231b4",
   "metadata": {},
   "outputs": [
    {
     "data": {
      "text/plain": [
       "0"
      ]
     },
     "execution_count": 3,
     "metadata": {},
     "output_type": "execute_result"
    }
   ],
   "source": [
    "cu_a.init(8, 5)"
   ]
  },
  {
   "cell_type": "code",
   "execution_count": 6,
   "id": "2a620e71",
   "metadata": {},
   "outputs": [],
   "source": [
    "m, n = cu_a.m(), cu_a.n()"
   ]
  },
  {
   "cell_type": "code",
   "execution_count": 7,
   "id": "67a31a00",
   "metadata": {},
   "outputs": [
    {
     "name": "stdout",
     "output_type": "stream",
     "text": [
      "0.0000 0.0000 0.0000 0.0000 0.0000 \n",
      "0.0000 0.0000 0.0000 0.0000 0.0000 \n",
      "0.0000 0.0000 0.0000 0.0000 0.0000 \n",
      "0.0000 0.0000 0.0000 0.0000 0.0000 \n",
      "0.0000 0.0000 0.0000 0.0000 0.0000 \n",
      "0.0000 0.0000 0.0000 0.0000 0.0000 \n",
      "0.0000 0.0000 0.0000 0.0000 0.0000 \n",
      "0.0000 0.0000 0.0000 0.0000 0.0000 \n"
     ]
    }
   ],
   "source": [
    "for i in range(m):\n",
    "    for j in range(n):\n",
    "        print(f'{cu_a[i][j]:.4f}', end=' ')\n",
    "    print()"
   ]
  },
  {
   "cell_type": "code",
   "execution_count": 8,
   "id": "4e0c5774",
   "metadata": {},
   "outputs": [],
   "source": [
    "for i in range(m):\n",
    "    for j in range(n):\n",
    "        cu_a[i][j] = np.random.random()"
   ]
  },
  {
   "cell_type": "code",
   "execution_count": 9,
   "id": "ffe53b51",
   "metadata": {},
   "outputs": [
    {
     "name": "stdout",
     "output_type": "stream",
     "text": [
      "0.2200 0.7088 0.5368 0.1825 0.4905 \n",
      "0.2590 0.4307 0.2361 0.1302 0.8844 \n",
      "0.9107 0.8616 0.0525 0.2005 0.1185 \n",
      "0.2986 0.9715 0.9095 0.5866 0.1225 \n",
      "0.6664 0.8908 0.5723 0.9642 0.3060 \n",
      "0.3783 0.5476 0.4264 0.0036 0.6034 \n",
      "0.4798 0.6917 0.2644 0.0751 0.2896 \n",
      "0.0433 0.3264 0.5457 0.4519 0.2574 \n"
     ]
    }
   ],
   "source": [
    "for i in range(len(cu_a)):\n",
    "    for j in range(len(cu_a[0])):\n",
    "        print(f'{cu_a[i][j]:.4f}', end=' ')\n",
    "    print()"
   ]
  },
  {
   "cell_type": "code",
   "execution_count": 10,
   "id": "183a403c",
   "metadata": {},
   "outputs": [],
   "source": [
    "cu_a_row0_sorted = cu_a.sort(0)"
   ]
  },
  {
   "cell_type": "code",
   "execution_count": 11,
   "id": "f2f863b0",
   "metadata": {},
   "outputs": [
    {
     "name": "stdout",
     "output_type": "stream",
     "text": [
      "0.7088 0.5368 0.4905 0.2200 0.1825 "
     ]
    }
   ],
   "source": [
    "for i in range(len(cu_a_row0_sorted[0])):\n",
    "    print(f'{cu_a_row0_sorted[0][i]:.4f}', end=' ')"
   ]
  },
  {
   "cell_type": "code",
   "execution_count": 12,
   "id": "c8257d6e",
   "metadata": {},
   "outputs": [],
   "source": [
    "cu_a_row0_sorted_indices = cu_a.argsort(0) "
   ]
  },
  {
   "cell_type": "code",
   "execution_count": 13,
   "id": "7964b049",
   "metadata": {},
   "outputs": [
    {
     "name": "stdout",
     "output_type": "stream",
     "text": [
      "1    0.7088\n",
      "2    0.5368\n",
      "4    0.4905\n",
      "0    0.2200\n",
      "3    0.1825\n"
     ]
    }
   ],
   "source": [
    "for i in range(len(cu_a_row0_sorted_indices[0])):\n",
    "    sorted_index = cu_a_row0_sorted_indices[0][i]\n",
    "    print(f'{sorted_index}    {cu_a[0][sorted_index]:.4f}', end='\\n')"
   ]
  },
  {
   "cell_type": "code",
   "execution_count": 14,
   "id": "9d33f750",
   "metadata": {},
   "outputs": [
    {
     "data": {
      "text/plain": [
       "0"
      ]
     },
     "execution_count": 14,
     "metadata": {},
     "output_type": "execute_result"
    }
   ],
   "source": [
    "cu_a_sorted = cuarray.FloatCuArray()\n",
    "cu_a_sorted.init(cu_a.m(), cu_a.n())"
   ]
  },
  {
   "cell_type": "code",
   "execution_count": 15,
   "id": "055ebcec",
   "metadata": {},
   "outputs": [],
   "source": [
    "for i in range(len(cu_a)):\n",
    "    cu_a_sorted[i] = cu_a.sort(i)[0]"
   ]
  },
  {
   "cell_type": "code",
   "execution_count": 16,
   "id": "53e98a15",
   "metadata": {},
   "outputs": [
    {
     "name": "stdout",
     "output_type": "stream",
     "text": [
      "0.7088 0.5368 0.4905 0.2200 0.1825 \n",
      "0.8844 0.4307 0.2590 0.2361 0.1302 \n",
      "0.9107 0.8616 0.2005 0.1185 0.0525 \n",
      "0.9715 0.9095 0.5866 0.2986 0.1225 \n",
      "0.9642 0.8908 0.6664 0.5723 0.3060 \n",
      "0.6034 0.5476 0.4264 0.3783 0.0036 \n",
      "0.6917 0.4798 0.2896 0.2644 0.0751 \n",
      "0.5457 0.4519 0.3264 0.2574 0.0433 \n"
     ]
    }
   ],
   "source": [
    "for i in range(len(cu_a)):\n",
    "    for j in range(len(cu_a[0])):\n",
    "        print(f'{cu_a_sorted[i][j]:.4f}', end=' ')\n",
    "    print()"
   ]
  },
  {
   "cell_type": "code",
   "execution_count": 17,
   "id": "63163af0",
   "metadata": {},
   "outputs": [
    {
     "data": {
      "text/plain": [
       "0"
      ]
     },
     "execution_count": 17,
     "metadata": {},
     "output_type": "execute_result"
    }
   ],
   "source": [
    "cu_a_sorted_indices = cuarray.IntCuArray()\n",
    "cu_a_sorted_indices.init(cu_a.m(), cu_a.n())"
   ]
  },
  {
   "cell_type": "code",
   "execution_count": 18,
   "id": "9f752839",
   "metadata": {},
   "outputs": [],
   "source": [
    "for i in range(len(cu_a)):\n",
    "    cu_a_sorted_indices[i] = cu_a.argsort(i)[0]"
   ]
  },
  {
   "cell_type": "code",
   "execution_count": 20,
   "id": "d0174a03",
   "metadata": {},
   "outputs": [
    {
     "name": "stdout",
     "output_type": "stream",
     "text": [
      "0.7088 0.5368 0.4905 0.2200 0.1825 \n",
      "0.8844 0.4307 0.2590 0.2361 0.1302 \n",
      "0.9107 0.8616 0.2005 0.1185 0.0525 \n",
      "0.9715 0.9095 0.5866 0.2986 0.1225 \n",
      "0.9642 0.8908 0.6664 0.5723 0.3060 \n",
      "0.6034 0.5476 0.4264 0.3783 0.0036 \n",
      "0.6917 0.4798 0.2896 0.2644 0.0751 \n",
      "0.5457 0.4519 0.3264 0.2574 0.0433 \n"
     ]
    }
   ],
   "source": [
    "for i in range(len(cu_a)):\n",
    "    for j in range(len(cu_a[0])):\n",
    "        sorted_index = cu_a_sorted_indices[i][j]\n",
    "        print(f'{cu_a[i][sorted_index]:.4f}', end=' ')\n",
    "    print()"
   ]
  },
  {
   "cell_type": "code",
   "execution_count": 21,
   "id": "41d5c78e",
   "metadata": {},
   "outputs": [],
   "source": [
    "cu_a_fname = f'{os.getcwd()}/cu_a.npy'"
   ]
  },
  {
   "cell_type": "code",
   "execution_count": 22,
   "id": "60c46747",
   "metadata": {},
   "outputs": [],
   "source": [
    "cu_a.save(cu_a_fname)"
   ]
  },
  {
   "cell_type": "code",
   "execution_count": 23,
   "id": "93d4daeb",
   "metadata": {},
   "outputs": [],
   "source": [
    "cu_b = cuarray.FloatCuArray()"
   ]
  },
  {
   "cell_type": "code",
   "execution_count": 26,
   "id": "475fcc0f",
   "metadata": {},
   "outputs": [
    {
     "name": "stdout",
     "output_type": "stream",
     "text": [
      "i: 0 j: 0 cu_b: 0.2200218290090561\n",
      "i: 0 j: 1 cu_b: 0.7088353037834167\n",
      "i: 0 j: 2 cu_b: 0.5368130803108215\n",
      "i: 0 j: 3 cu_b: 0.18252871930599213\n",
      "i: 0 j: 4 cu_b: 0.4904696047306061\n",
      "i: 1 j: 0 cu_b: 0.2590361535549164\n",
      "i: 1 j: 1 cu_b: 0.4306776225566864\n",
      "i: 1 j: 2 cu_b: 0.23614352941513062\n",
      "i: 1 j: 3 cu_b: 0.13015803694725037\n",
      "i: 1 j: 4 cu_b: 0.8843584060668945\n",
      "i: 2 j: 0 cu_b: 0.9106679558753967\n",
      "i: 2 j: 1 cu_b: 0.8616017699241638\n",
      "i: 2 j: 2 cu_b: 0.052487242966890335\n",
      "i: 2 j: 3 cu_b: 0.20052964985370636\n",
      "i: 2 j: 4 cu_b: 0.11851909011602402\n",
      "i: 3 j: 0 cu_b: 0.29855838418006897\n",
      "i: 3 j: 1 cu_b: 0.9715281128883362\n",
      "i: 3 j: 2 cu_b: 0.9095115661621094\n",
      "i: 3 j: 3 cu_b: 0.5865597724914551\n",
      "i: 3 j: 4 cu_b: 0.12247158586978912\n",
      "i: 4 j: 0 cu_b: 0.6663904190063477\n",
      "i: 4 j: 1 cu_b: 0.8908042311668396\n",
      "i: 4 j: 2 cu_b: 0.5723031759262085\n",
      "i: 4 j: 3 cu_b: 0.9641736149787903\n",
      "i: 4 j: 4 cu_b: 0.3059685230255127\n",
      "i: 5 j: 0 cu_b: 0.37834352254867554\n",
      "i: 5 j: 1 cu_b: 0.5475561022758484\n",
      "i: 5 j: 2 cu_b: 0.42638635635375977\n",
      "i: 5 j: 3 cu_b: 0.0036031187046319246\n",
      "i: 5 j: 4 cu_b: 0.6034222841262817\n",
      "i: 6 j: 0 cu_b: 0.4797992408275604\n",
      "i: 6 j: 1 cu_b: 0.6916868090629578\n",
      "i: 6 j: 2 cu_b: 0.26436981558799744\n",
      "i: 6 j: 3 cu_b: 0.07509136199951172\n",
      "i: 6 j: 4 cu_b: 0.2896338403224945\n",
      "i: 7 j: 0 cu_b: 0.04327014461159706\n",
      "i: 7 j: 1 cu_b: 0.32637351751327515\n",
      "i: 7 j: 2 cu_b: 0.5457451939582825\n",
      "i: 7 j: 3 cu_b: 0.4519454836845398\n",
      "i: 7 j: 4 cu_b: 0.25736165046691895\n"
     ]
    }
   ],
   "source": [
    "cu_b.load(cu_a_fname)\n",
    "for i in range(len(cu_b)):\n",
    "    for j in range(len(cu_b[0])):\n",
    "        print(\"i:\", i, \"j:\", j, \"cu_b:\", cu_b[i][j])"
   ]
  },
  {
   "cell_type": "code",
   "execution_count": 27,
   "id": "e6d901e2",
   "metadata": {},
   "outputs": [],
   "source": [
    "np_a = cu_a.toNumpy2D()"
   ]
  },
  {
   "cell_type": "code",
   "execution_count": 28,
   "id": "6efd3f59",
   "metadata": {},
   "outputs": [
    {
     "name": "stdout",
     "output_type": "stream",
     "text": [
      "0.2200 0.7088 0.5368 0.1825 0.4905     0.2200 0.7088 0.5368 0.1825 0.4905 \n",
      "0.2590 0.4307 0.2361 0.1302 0.8844     0.2590 0.4307 0.2361 0.1302 0.8844 \n",
      "0.9107 0.8616 0.0525 0.2005 0.1185     0.9107 0.8616 0.0525 0.2005 0.1185 \n",
      "0.2986 0.9715 0.9095 0.5866 0.1225     0.2986 0.9715 0.9095 0.5866 0.1225 \n",
      "0.6664 0.8908 0.5723 0.9642 0.3060     0.6664 0.8908 0.5723 0.9642 0.3060 \n",
      "0.3783 0.5476 0.4264 0.0036 0.6034     0.3783 0.5476 0.4264 0.0036 0.6034 \n",
      "0.4798 0.6917 0.2644 0.0751 0.2896     0.4798 0.6917 0.2644 0.0751 0.2896 \n",
      "0.0433 0.3264 0.5457 0.4519 0.2574     0.0433 0.3264 0.5457 0.4519 0.2574 \n"
     ]
    }
   ],
   "source": [
    "for i in range(m):\n",
    "    for j in range(n):\n",
    "        print(f'{cu_a[i][j]:.4f}', end=' ')\n",
    "    print(end='    ')\n",
    "    for j in range(n):\n",
    "        print(f'{np_a[i][j]:.4f}', end=' ')\n",
    "    print()"
   ]
  },
  {
   "cell_type": "code",
   "execution_count": 29,
   "id": "3c453dbd",
   "metadata": {},
   "outputs": [],
   "source": [
    "np_a_linear = cu_a.toNumpy1D()"
   ]
  },
  {
   "cell_type": "code",
   "execution_count": 30,
   "id": "cbf5e928",
   "metadata": {},
   "outputs": [
    {
     "name": "stdout",
     "output_type": "stream",
     "text": [
      "0.2200 0.7088 0.5368 0.1825 0.4905     0.2200 0.7088 0.5368 0.1825 0.4905 \n",
      "0.2590 0.4307 0.2361 0.1302 0.8844     0.2590 0.4307 0.2361 0.1302 0.8844 \n",
      "0.9107 0.8616 0.0525 0.2005 0.1185     0.9107 0.8616 0.0525 0.2005 0.1185 \n",
      "0.2986 0.9715 0.9095 0.5866 0.1225     0.2986 0.9715 0.9095 0.5866 0.1225 \n",
      "0.6664 0.8908 0.5723 0.9642 0.3060     0.6664 0.8908 0.5723 0.9642 0.3060 \n",
      "0.3783 0.5476 0.4264 0.0036 0.6034     0.3783 0.5476 0.4264 0.0036 0.6034 \n",
      "0.4798 0.6917 0.2644 0.0751 0.2896     0.4798 0.6917 0.2644 0.0751 0.2896 \n",
      "0.0433 0.3264 0.5457 0.4519 0.2574     0.0433 0.3264 0.5457 0.4519 0.2574 \n"
     ]
    }
   ],
   "source": [
    "for i in range(m):\n",
    "    for j in range(n):\n",
    "        linear_index = i*n + j\n",
    "        print(f'{cu_a[i][j]:.4f}', end=' ')\n",
    "    print(end='    ')\n",
    "    for j in range(n):\n",
    "        linear_index = i*n + j\n",
    "        print(f'{np_a_linear[linear_index]:.4f}', end=' ')\n",
    "    print()\n"
   ]
  },
  {
   "cell_type": "code",
   "execution_count": 31,
   "id": "150e660d",
   "metadata": {},
   "outputs": [
    {
     "data": {
      "text/plain": [
       "0"
      ]
     },
     "execution_count": 31,
     "metadata": {},
     "output_type": "execute_result"
    }
   ],
   "source": [
    "cu_a_np = cuarray.FloatCuArray()\n",
    "cu_a_np.fromNumpy2D(np_a)"
   ]
  },
  {
   "cell_type": "code",
   "execution_count": 32,
   "id": "0f575376",
   "metadata": {},
   "outputs": [
    {
     "name": "stdout",
     "output_type": "stream",
     "text": [
      "0.2200 0.7088 0.5368 0.1825 0.4905     0.2200 0.7088 0.5368 0.1825 0.4905 \n",
      "0.2590 0.4307 0.2361 0.1302 0.8844     0.2590 0.4307 0.2361 0.1302 0.8844 \n",
      "0.9107 0.8616 0.0525 0.2005 0.1185     0.9107 0.8616 0.0525 0.2005 0.1185 \n",
      "0.2986 0.9715 0.9095 0.5866 0.1225     0.2986 0.9715 0.9095 0.5866 0.1225 \n",
      "0.6664 0.8908 0.5723 0.9642 0.3060     0.6664 0.8908 0.5723 0.9642 0.3060 \n",
      "0.3783 0.5476 0.4264 0.0036 0.6034     0.3783 0.5476 0.4264 0.0036 0.6034 \n",
      "0.4798 0.6917 0.2644 0.0751 0.2896     0.4798 0.6917 0.2644 0.0751 0.2896 \n",
      "0.0433 0.3264 0.5457 0.4519 0.2574     0.0433 0.3264 0.5457 0.4519 0.2574 \n"
     ]
    }
   ],
   "source": [
    "for i in range(len(cu_a_np)):\n",
    "    for j in range(len(cu_a[0])):\n",
    "        print(f'{cu_a[i][j]:.4f}', end=' ')\n",
    "    print(end='    ')\n",
    "    for j in range(len(cu_a[0])):\n",
    "        print(f'{cu_a_np[i][j]:.4f}', end=' ')\n",
    "    print()\n"
   ]
  },
  {
   "cell_type": "code",
   "execution_count": null,
   "id": "7c2daf42",
   "metadata": {},
   "outputs": [],
   "source": []
  },
  {
   "cell_type": "code",
   "execution_count": 33,
   "id": "0a0fd628",
   "metadata": {},
   "outputs": [
    {
     "data": {
      "text/plain": [
       "0"
      ]
     },
     "execution_count": 33,
     "metadata": {},
     "output_type": "execute_result"
    }
   ],
   "source": [
    "cu_a_np_linear = cuarray.FloatCuArray()\n",
    "cu_a_np_linear.fromNumpy1D(np_a_linear)"
   ]
  },
  {
   "cell_type": "code",
   "execution_count": 34,
   "id": "8df911e0",
   "metadata": {},
   "outputs": [
    {
     "name": "stdout",
     "output_type": "stream",
     "text": [
      "0.2200 0.7088 0.5368 0.1825 0.4905     0.2200 0.7088 0.5368 0.1825 0.4905 \n",
      "0.2590 0.4307 0.2361 0.1302 0.8844     0.2590 0.4307 0.2361 0.1302 0.8844 \n",
      "0.9107 0.8616 0.0525 0.2005 0.1185     0.9107 0.8616 0.0525 0.2005 0.1185 \n",
      "0.2986 0.9715 0.9095 0.5866 0.1225     0.2986 0.9715 0.9095 0.5866 0.1225 \n",
      "0.6664 0.8908 0.5723 0.9642 0.3060     0.6664 0.8908 0.5723 0.9642 0.3060 \n",
      "0.3783 0.5476 0.4264 0.0036 0.6034     0.3783 0.5476 0.4264 0.0036 0.6034 \n",
      "0.4798 0.6917 0.2644 0.0751 0.2896     0.4798 0.6917 0.2644 0.0751 0.2896 \n",
      "0.0433 0.3264 0.5457 0.4519 0.2574     0.0433 0.3264 0.5457 0.4519 0.2574 \n"
     ]
    }
   ],
   "source": [
    "for i in range(m):\n",
    "    for j in range(n):\n",
    "        linear_index = i*n + j\n",
    "        print(f'{cu_a_np_linear[0][linear_index]:.4f}', end=' ')\n",
    "    print(end='    ')\n",
    "    for j in range(n):\n",
    "        linear_index = i*n + j\n",
    "        print(f'{np_a_linear[linear_index]:.4f}', end=' ')\n",
    "    print()"
   ]
  },
  {
   "cell_type": "code",
   "execution_count": 35,
   "id": "bc132da1",
   "metadata": {},
   "outputs": [],
   "source": [
    "c = cuarray.FloatCuArray()"
   ]
  },
  {
   "cell_type": "code",
   "execution_count": 36,
   "id": "81c7120a",
   "metadata": {},
   "outputs": [
    {
     "data": {
      "text/plain": [
       "<function cuarray.cuarray.FloatCuArray.fromCuArray(self, cuArray, start, end, m, n)>"
      ]
     },
     "execution_count": 36,
     "metadata": {},
     "output_type": "execute_result"
    }
   ],
   "source": [
    "cuarray.FloatCuArray.fromCuArray"
   ]
  },
  {
   "cell_type": "code",
   "execution_count": 38,
   "id": "7b99d74a",
   "metadata": {},
   "outputs": [
    {
     "data": {
      "text/plain": [
       "0"
      ]
     },
     "execution_count": 38,
     "metadata": {},
     "output_type": "execute_result"
    }
   ],
   "source": [
    "cu_a_copy = cuarray.FloatCuArray()\n",
    "cu_a_copy.fromCuArray(\n",
    "    cuArray=cu_a,\n",
    "    start=0,\n",
    "    end=len(cu_a)-1,\n",
    "    m=cu_a.m(),\n",
    "    n=cu_a.n(),\n",
    ")"
   ]
  },
  {
   "cell_type": "code",
   "execution_count": 39,
   "id": "a3b6d310",
   "metadata": {},
   "outputs": [
    {
     "name": "stdout",
     "output_type": "stream",
     "text": [
      "0.2200 0.7088 0.5368 0.1825 0.4905     0.2200 0.7088 0.5368 0.1825 0.4905 \n",
      "0.2590 0.4307 0.2361 0.1302 0.8844     0.2590 0.4307 0.2361 0.1302 0.8844 \n",
      "0.9107 0.8616 0.0525 0.2005 0.1185     0.9107 0.8616 0.0525 0.2005 0.1185 \n",
      "0.2986 0.9715 0.9095 0.5866 0.1225     0.2986 0.9715 0.9095 0.5866 0.1225 \n",
      "0.6664 0.8908 0.5723 0.9642 0.3060     0.6664 0.8908 0.5723 0.9642 0.3060 \n",
      "0.3783 0.5476 0.4264 0.0036 0.6034     0.3783 0.5476 0.4264 0.0036 0.6034 \n",
      "0.4798 0.6917 0.2644 0.0751 0.2896     0.4798 0.6917 0.2644 0.0751 0.2896 \n",
      "0.0433 0.3264 0.5457 0.4519 0.2574     0.0433 0.3264 0.5457 0.4519 0.2574 \n"
     ]
    }
   ],
   "source": [
    "for i in range(len(cu_a)):\n",
    "    for j in range(len(cu_a[0])):\n",
    "        print(f'{cu_a_copy[i][j]:.4f}', end=' ')\n",
    "    print(end='    ')\n",
    "    for j in range(len(cu_a[0])):\n",
    "        print(f'{cu_a[i][j]:.4f}', end=' ')\n",
    "    print()"
   ]
  },
  {
   "cell_type": "code",
   "execution_count": 40,
   "id": "00785f85",
   "metadata": {},
   "outputs": [
    {
     "data": {
      "text/plain": [
       "0"
      ]
     },
     "execution_count": 40,
     "metadata": {},
     "output_type": "execute_result"
    }
   ],
   "source": [
    "cu_a_from_linear = cuarray.FloatCuArray()\n",
    "cu_a_from_linear.fromCuArray(\n",
    "    cuArray=cu_a_np_linear,\n",
    "    start=0,\n",
    "    end=0,\n",
    "    m=cu_a.m(),\n",
    "    n=cu_a.n(),\n",
    ")"
   ]
  },
  {
   "cell_type": "code",
   "execution_count": 41,
   "id": "09030903",
   "metadata": {},
   "outputs": [
    {
     "name": "stdout",
     "output_type": "stream",
     "text": [
      "0.2200 0.7088 0.5368 0.1825 0.4905     0.2200 0.7088 0.5368 0.1825 0.4905 \n",
      "0.2590 0.4307 0.2361 0.1302 0.8844     0.2590 0.4307 0.2361 0.1302 0.8844 \n",
      "0.9107 0.8616 0.0525 0.2005 0.1185     0.9107 0.8616 0.0525 0.2005 0.1185 \n",
      "0.2986 0.9715 0.9095 0.5866 0.1225     0.2986 0.9715 0.9095 0.5866 0.1225 \n",
      "0.6664 0.8908 0.5723 0.9642 0.3060     0.6664 0.8908 0.5723 0.9642 0.3060 \n",
      "0.3783 0.5476 0.4264 0.0036 0.6034     0.3783 0.5476 0.4264 0.0036 0.6034 \n",
      "0.4798 0.6917 0.2644 0.0751 0.2896     0.4798 0.6917 0.2644 0.0751 0.2896 \n",
      "0.0433 0.3264 0.5457 0.4519 0.2574     0.0433 0.3264 0.5457 0.4519 0.2574 \n"
     ]
    }
   ],
   "source": [
    "for i in range(len(cu_a)):\n",
    "    for j in range(len(cu_a[0])):\n",
    "        print(f'{cu_a_from_linear[i][j]:.4f}', end=' ')\n",
    "    print(end='    ')\n",
    "    for j in range(len(cu_a[0])):\n",
    "        print(f'{cu_a[i][j]:.4f}', end=' ')\n",
    "    print()"
   ]
  },
  {
   "cell_type": "code",
   "execution_count": null,
   "id": "4cf8764a",
   "metadata": {},
   "outputs": [],
   "source": []
  }
 ],
 "metadata": {
  "kernelspec": {
   "display_name": "Python 3 (ipykernel)",
   "language": "python",
   "name": "python3"
  },
  "language_info": {
   "codemirror_mode": {
    "name": "ipython",
    "version": 3
   },
   "file_extension": ".py",
   "mimetype": "text/x-python",
   "name": "python",
   "nbconvert_exporter": "python",
   "pygments_lexer": "ipython3",
   "version": "3.10.10"
  }
 },
 "nbformat": 4,
 "nbformat_minor": 5
}
