{
 "cells": [
  {
   "cell_type": "code",
   "execution_count": null,
   "id": "abf3f890",
   "metadata": {},
   "outputs": [],
   "source": [
    "import os\n",
    "import tarfile\n",
    "\n",
    "import netchem\n",
    "import cuarray"
   ]
  },
  {
   "cell_type": "code",
   "execution_count": null,
   "id": "d84d80d6",
   "metadata": {},
   "outputs": [],
   "source": [
    "#NETSCI_ROOT=<path to netsci root directory>\n",
    "tutorial_directory = f'{NETSCI_ROOT}/tutorial'\n",
    "os.chdir(tutorial_directory)"
   ]
  },
  {
   "cell_type": "code",
   "execution_count": null,
   "id": "0a3f9be8",
   "metadata": {},
   "outputs": [],
   "source": [
    "tutorial_tarball = tarfile.open(f'{os.getcwd()}/tutorial.tar.gz')\n",
    "tutorial_tarball.extractall()\n",
    "tutorial_tarball.close()"
   ]
  },
  {
   "cell_type": "code",
   "execution_count": null,
   "id": "abf02fb4",
   "metadata": {},
   "outputs": [],
   "source": [
    "first_frame = 0\n",
    "last_frame = 999\n",
    "trajectory_file = f'{tutorial_directory}/pyro.dcd'\n",
    "topology_file = f'{tutorial_directory}/pyro.pdb'"
   ]
  },
  {
   "cell_type": "code",
   "execution_count": null,
   "id": "15d2b193",
   "metadata": {},
   "outputs": [],
   "source": [
    "graph = netchem.Graph()"
   ]
  },
  {
   "cell_type": "code",
   "execution_count": null,
   "id": "bfc31483",
   "metadata": {},
   "outputs": [],
   "source": [
    "graph.init(\n",
    "    trajectoryFile=trajectory_file,\n",
    "    topologyFile=topology_file,\n",
    "    firstFrame=first_frame,\n",
    "    lastFrame=last_frame,\n",
    ")"
   ]
  },
  {
   "cell_type": "code",
   "execution_count": null,
   "id": "77ecbaaa",
   "metadata": {},
   "outputs": [],
   "source": [
    "num_nodes = graph.numNodes()\n",
    "print(num_nodes)"
   ]
  },
  {
   "cell_type": "code",
   "execution_count": null,
   "id": "cadd6021",
   "metadata": {},
   "outputs": [],
   "source": [
    "num_frames = graph.numFrames()\n",
    "print(num_frames)"
   ]
  },
  {
   "cell_type": "code",
   "execution_count": null,
   "id": "d722ea23",
   "metadata": {},
   "outputs": [],
   "source": [
    "atoms = graph.atoms()"
   ]
  },
  {
   "cell_type": "code",
   "execution_count": null,
   "id": "2698088d",
   "metadata": {},
   "outputs": [],
   "source": [
    "num_atoms = atoms.numAtoms()\n",
    "print(num_atoms)"
   ]
  },
  {
   "cell_type": "code",
   "execution_count": null,
   "id": "5dfc6082",
   "metadata": {},
   "outputs": [],
   "source": [
    "for atom in atoms:\n",
    "    print(atom, '\\n')"
   ]
  },
  {
   "cell_type": "code",
   "execution_count": null,
   "id": "702872bc",
   "metadata": {},
   "outputs": [],
   "source": [
    "atom0 = atoms.at(0)\n",
    "print(atom0)"
   ]
  },
  {
   "cell_type": "code",
   "execution_count": null,
   "id": "b0025f56",
   "metadata": {},
   "outputs": [],
   "source": [
    "atom0_index = atom0.index()\n",
    "print(atom0_index)"
   ]
  },
  {
   "cell_type": "code",
   "execution_count": null,
   "id": "06ba1a7e",
   "metadata": {},
   "outputs": [],
   "source": [
    "atom0_serial = atom0.serial()\n",
    "print(atom0_serial)"
   ]
  },
  {
   "cell_type": "code",
   "execution_count": null,
   "id": "e8f0b81b",
   "metadata": {},
   "outputs": [],
   "source": [
    "atom0_name = atom0.name()\n",
    "print(atom0_name)"
   ]
  },
  {
   "cell_type": "code",
   "execution_count": null,
   "id": "cad1fc56",
   "metadata": {},
   "outputs": [],
   "source": [
    "atom0_element = atom0.element()\n",
    "print(atom0_element)"
   ]
  },
  {
   "cell_type": "code",
   "execution_count": null,
   "id": "8b9e0402",
   "metadata": {},
   "outputs": [],
   "source": [
    "atom0_residue_id = atom0.residueId()\n",
    "print(atom0_residue_id)"
   ]
  },
  {
   "cell_type": "code",
   "execution_count": null,
   "id": "376805e0",
   "metadata": {},
   "outputs": [],
   "source": [
    "atom0_residue_name = atom0.residueName()\n",
    "print(atom0_residue_name)"
   ]
  },
  {
   "cell_type": "code",
   "execution_count": null,
   "id": "ab743e42",
   "metadata": {},
   "outputs": [],
   "source": [
    "atom0_chain_id = atom0.chainId()\n",
    "print(atom0_chain_id)"
   ]
  },
  {
   "cell_type": "code",
   "execution_count": null,
   "id": "e3179a67",
   "metadata": {},
   "outputs": [],
   "source": [
    "atom0_segment_id = atom0.segmentId()\n",
    "print(atom0_segment_id)"
   ]
  },
  {
   "cell_type": "code",
   "execution_count": null,
   "id": "77363847",
   "metadata": {},
   "outputs": [],
   "source": [
    "atom0_mass = atom0.mass()\n",
    "print(atom0_mass)"
   ]
  },
  {
   "cell_type": "code",
   "execution_count": null,
   "id": "db514767",
   "metadata": {},
   "outputs": [],
   "source": [
    "nodes = graph.nodes()"
   ]
  },
  {
   "cell_type": "code",
   "execution_count": null,
   "id": "87eb1eb0",
   "metadata": {},
   "outputs": [],
   "source": [
    "for node in graph:\n",
    "    print(node, '\\n')"
   ]
  },
  {
   "cell_type": "code",
   "execution_count": null,
   "id": "7aedaf14",
   "metadata": {},
   "outputs": [],
   "source": [
    "node0 = nodes[0]\n",
    "print(node0)"
   ]
  },
  {
   "cell_type": "code",
   "execution_count": null,
   "id": "4d965327",
   "metadata": {},
   "outputs": [],
   "source": [
    "node0_tag = node0.tag()\n",
    "print(node0_tag)"
   ]
  },
  {
   "cell_type": "code",
   "execution_count": null,
   "id": "d300e7f2",
   "metadata": {},
   "outputs": [],
   "source": [
    "node0_num_atoms = node0.numAtoms()\n",
    "print(node0_num_atoms)"
   ]
  },
  {
   "cell_type": "code",
   "execution_count": null,
   "id": "7136fb96",
   "metadata": {},
   "outputs": [],
   "source": [
    "node0_index = node0.index()\n",
    "print(node0_index)"
   ]
  },
  {
   "cell_type": "code",
   "execution_count": null,
   "id": "d6c2d42a",
   "metadata": {},
   "outputs": [],
   "source": [
    "node0_total_mass = node0.totalMass()\n",
    "print(node0_total_mass)"
   ]
  },
  {
   "cell_type": "code",
   "execution_count": null,
   "id": "74c79b8e",
   "metadata": {},
   "outputs": [],
   "source": [
    "node0_atoms = node0.atoms()"
   ]
  },
  {
   "cell_type": "code",
   "execution_count": null,
   "id": "16f5029f",
   "metadata": {
    "scrolled": true
   },
   "outputs": [],
   "source": [
    "for atom in node0_atoms:\n",
    "    print(atom, '\\n')"
   ]
  },
  {
   "cell_type": "code",
   "execution_count": null,
   "id": "46f30cc4",
   "metadata": {},
   "outputs": [],
   "source": [
    "node_coordinates = graph.nodeCoordinates()"
   ]
  },
  {
   "cell_type": "code",
   "execution_count": null,
   "id": "be523a15",
   "metadata": {},
   "outputs": [],
   "source": [
    "node0_coordinates = cuarray.FloatCuArray()\n",
    "node0_coordinates.fromCuArray(\n",
    "    cuArray=node_coordinates,\n",
    "    start=0,\n",
    "    end=0,\n",
    "    m=3,\n",
    "    n=num_frames,\n",
    ")"
   ]
  },
  {
   "cell_type": "code",
   "execution_count": null,
   "id": "17808b93",
   "metadata": {},
   "outputs": [],
   "source": [
    "for frame in range(num_frames):\n",
    "    node0_x = node0_coordinates[0][frame]\n",
    "    node0_y = node0_coordinates[1][frame]\n",
    "    node0_z = node0_coordinates[2][frame]\n",
    "    print(\n",
    "        f'x: {node0_x:.4f}    '\n",
    "        f'y: {node0_y:.4f}    '    \n",
    "        f'z: {node0_z:.4f}    '\n",
    "        f'frame: {frame}'\n",
    "    )"
   ]
  },
  {
   "cell_type": "code",
   "execution_count": null,
   "id": "b9d5d825",
   "metadata": {},
   "outputs": [],
   "source": [
    "graph_json = f'{tutorial_directory}/graph.json'\n",
    "graph_node_coordinates_npy = f'{tutorial_directory}/graph_node_coordinates.npy' "
   ]
  },
  {
   "cell_type": "code",
   "execution_count": null,
   "id": "a1f5f371",
   "metadata": {},
   "outputs": [],
   "source": [
    "graph.save(graph_json)\n",
    "graph.nodeCoordinates().save(graph_node_coordinates_npy)"
   ]
  },
  {
   "cell_type": "code",
   "execution_count": null,
   "id": "0e1aef67",
   "metadata": {},
   "outputs": [],
   "source": [
    "graph_from_json = netchem.Graph()\n",
    "graph_from_json.load(graph_json)"
   ]
  },
  {
   "cell_type": "code",
   "execution_count": null,
   "id": "d8394974",
   "metadata": {},
   "outputs": [],
   "source": [
    "graph_from_json.nodeCoordinates(graph_node_coordinates_npy)"
   ]
  }
 ],
 "metadata": {
  "kernelspec": {
   "display_name": "Python 3 (ipykernel)",
   "language": "python",
   "name": "python3"
  },
  "language_info": {
   "codemirror_mode": {
    "name": "ipython",
    "version": 3
   },
   "file_extension": ".py",
   "mimetype": "text/x-python",
   "name": "python",
   "nbconvert_exporter": "python",
   "pygments_lexer": "ipython3",
   "version": "3.10.11"
  }
 },
 "nbformat": 4,
 "nbformat_minor": 5
}
