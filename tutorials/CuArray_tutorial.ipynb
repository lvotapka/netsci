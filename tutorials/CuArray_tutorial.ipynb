{
 "cells": [
  {
   "cell_type": "code",
   "execution_count": null,
   "id": "b90199fd",
   "metadata": {},
   "outputs": [],
   "source": [
    "import os\n",
    "\n",
    "import numpy as np\n",
    "\n",
    "import cuarray"
   ]
  },
  {
   "cell_type": "code",
   "execution_count": null,
   "id": "bd680293",
   "metadata": {},
   "outputs": [],
   "source": [
    "cu_a = cuarray.FloatCuArray()"
   ]
  },
  {
   "cell_type": "code",
   "execution_count": null,
   "id": "c33231b4",
   "metadata": {},
   "outputs": [],
   "source": [
    "cu_a.init(8, 5)"
   ]
  },
  {
   "cell_type": "code",
   "execution_count": null,
   "id": "2a620e71",
   "metadata": {},
   "outputs": [],
   "source": [
    "m, n = cu_a.m(), cu_a.n()"
   ]
  },
  {
   "cell_type": "code",
   "execution_count": null,
   "id": "67a31a00",
   "metadata": {},
   "outputs": [],
   "source": [
    "print(cu_a)"
   ]
  },
  {
   "cell_type": "code",
   "execution_count": null,
   "id": "4e0c5774",
   "metadata": {},
   "outputs": [],
   "source": [
    "for i in range(m):\n",
    "    for j in range(n):\n",
    "        cu_a[i][j] = np.random.random()\n",
    "print(cu_a)"
   ]
  },
  {
   "cell_type": "code",
   "execution_count": null,
   "id": "183a403c",
   "metadata": {},
   "outputs": [],
   "source": [
    "cu_a_row0_sorted = cu_a.sort(0)\n",
    "print(cu_a_row0_sorted)"
   ]
  },
  {
   "cell_type": "code",
   "execution_count": null,
   "id": "c8257d6e",
   "metadata": {},
   "outputs": [],
   "source": [
    "cu_a_row0_sorted_indices = cu_a.argsort(0) \n",
    "print(cu_a_row0_sorted_indices)"
   ]
  },
  {
   "cell_type": "code",
   "execution_count": null,
   "id": "41d5c78e",
   "metadata": {},
   "outputs": [],
   "source": [
    "cu_a_fname = f'{os.getcwd()}/cu_a.npy'"
   ]
  },
  {
   "cell_type": "code",
   "execution_count": null,
   "id": "60c46747",
   "metadata": {},
   "outputs": [],
   "source": [
    "cu_a.save(cu_a_fname)"
   ]
  },
  {
   "cell_type": "code",
   "execution_count": null,
   "id": "93d4daeb",
   "metadata": {},
   "outputs": [],
   "source": [
    "cu_b = cuarray.FloatCuArray()"
   ]
  },
  {
   "cell_type": "code",
   "execution_count": null,
   "id": "475fcc0f",
   "metadata": {},
   "outputs": [],
   "source": [
    "cu_b.load(cu_a_fname)"
   ]
  },
  {
   "cell_type": "code",
   "execution_count": null,
   "id": "e6d901e2",
   "metadata": {},
   "outputs": [],
   "source": [
    "np_a = cu_a.toNumpy2D()\n",
    "print(np_a)\n",
    "print(cu_a)"
   ]
  },
  {
   "cell_type": "code",
   "execution_count": null,
   "id": "3c453dbd",
   "metadata": {},
   "outputs": [],
   "source": [
    "np_a_linear = cu_a.toNumpy1D()\n",
    "print(np_a_linear)"
   ]
  },
  {
   "cell_type": "code",
   "execution_count": null,
   "id": "150e660d",
   "metadata": {},
   "outputs": [],
   "source": [
    "cu_a_np = cuarray.FloatCuArray()\n",
    "cu_a_np.fromNumpy2D(np_a)\n",
    "print(cu_a, '\\n')\n",
    "print(cu_a_np)"
   ]
  },
  {
   "cell_type": "code",
   "execution_count": null,
   "id": "0a0fd628",
   "metadata": {},
   "outputs": [],
   "source": [
    "cu_a_np_linear = cuarray.FloatCuArray()\n",
    "cu_a_np_linear.fromNumpy1D(np_a_linear)"
   ]
  },
  {
   "cell_type": "code",
   "execution_count": null,
   "id": "bc132da1",
   "metadata": {},
   "outputs": [],
   "source": [
    "c = cuarray.FloatCuArray()"
   ]
  },
  {
   "cell_type": "code",
   "execution_count": null,
   "id": "7b99d74a",
   "metadata": {},
   "outputs": [],
   "source": [
    "cu_a_copy = cuarray.FloatCuArray()\n",
    "cu_a_copy.fromCuArray(\n",
    "    cuArray=cu_a,\n",
    "    start=0,\n",
    "    end=len(cu_a)-1,\n",
    "    m=cu_a.m(),\n",
    "    n=cu_a.n(),\n",
    ")\n",
    "print(cu_a, '\\n')\n",
    "print(cu_a_copy)"
   ]
  },
  {
   "cell_type": "code",
   "execution_count": null,
   "id": "00785f85",
   "metadata": {},
   "outputs": [],
   "source": [
    "cu_a_from_linear = cuarray.FloatCuArray()\n",
    "cu_a_from_linear.fromCuArray(\n",
    "    cuArray=cu_a_np_linear,\n",
    "    start=0,\n",
    "    end=0,\n",
    "    m=cu_a.m(),\n",
    "    n=cu_a.n(),\n",
    ")\n",
    "print(cu_a, '\\n')\n",
    "print(cu_a_from_linear)"
   ]
  }
 ],
 "metadata": {
  "kernelspec": {
   "display_name": "Python 3 (ipykernel)",
   "language": "python",
   "name": "python3"
  },
  "language_info": {
   "codemirror_mode": {
    "name": "ipython",
    "version": 3
   },
   "file_extension": ".py",
   "mimetype": "text/x-python",
   "name": "python",
   "nbconvert_exporter": "python",
   "pygments_lexer": "ipython3",
   "version": "3.10.11"
  }
 },
 "nbformat": 4,
 "nbformat_minor": 5
}
